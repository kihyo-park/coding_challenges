{
 "cells": [
  {
   "cell_type": "code",
   "execution_count": 4,
   "metadata": {},
   "outputs": [
    {
     "data": {
      "text/plain": [
       "'/Users/kihyo/Desktop/coding_challenge/00_wc'"
      ]
     },
     "execution_count": 4,
     "metadata": {},
     "output_type": "execute_result"
    }
   ],
   "source": [
    "import os\n",
    "os.getcwd()\n",
    "#os.chdir('./00_wc')"
   ]
  },
  {
   "cell_type": "code",
   "execution_count": 5,
   "metadata": {},
   "outputs": [],
   "source": [
    "def count_word_frequency(text):\n",
    "    words = text.split() # split a text into words \n",
    "    frequency = {}\n",
    "\n",
    "    for word in words:\n",
    "        word = word.lower().strip(\",.!?\") # make words lower-cased, deleting those symbols\n",
    "        if word not in frequency:\n",
    "            frequency[word] = 1\n",
    "        else:\n",
    "            frequency[word] += 1\n",
    "\n",
    "    return frequency"
   ]
  },
  {
   "cell_type": "code",
   "execution_count": 24,
   "metadata": {},
   "outputs": [
    {
     "data": {
      "text/plain": [
       "['I', 'love', 'humans', 'humans.']"
      ]
     },
     "execution_count": 24,
     "metadata": {},
     "output_type": "execute_result"
    }
   ],
   "source": [
    "text = 'I love\\nhumans humans.'\n",
    "text.split()"
   ]
  },
  {
   "cell_type": "code",
   "execution_count": 27,
   "metadata": {},
   "outputs": [
    {
     "name": "stdout",
     "output_type": "stream",
     "text": [
      "271952\n"
     ]
    }
   ],
   "source": [
    "with open('test.txt', 'r') as file_data:\n",
    "        text = file_data.read().split()\n",
    "        len_chars = sum(len(word) for word in text)\n",
    "        print(len_chars)\n",
    "\n",
    "#print(numbers)\n",
    "#words\n",
    "#for word in words:\n",
    "#    word = word.lower().strip(\",.!?\")\n",
    "\n",
    "\n",
    "    \n",
    "    "
   ]
  },
  {
   "cell_type": "code",
   "execution_count": 17,
   "metadata": {},
   "outputs": [
    {
     "name": "stdout",
     "output_type": "stream",
     "text": [
      "1\n",
      "2\n",
      "3\n",
      "4\n",
      "5\n",
      "6\n",
      "7\n",
      "8\n",
      "9\n"
     ]
    }
   ],
   "source": [
    "import sys\n",
    "\n",
    "#for i in range(1, 10):\n",
    "#    sys.stdout.write(str(i))\n",
    "#    sys.stdout.flush()\n",
    "\n",
    "for i in range(1, 10):\n",
    "    print(i)"
   ]
  },
  {
   "cell_type": "code",
   "execution_count": 26,
   "metadata": {},
   "outputs": [
    {
     "name": "stdout",
     "output_type": "stream",
     "text": [
      "ccsh> "
     ]
    },
    {
     "data": {
      "text/plain": [
       "'aa fasss          lll'"
      ]
     },
     "execution_count": 26,
     "metadata": {},
     "output_type": "execute_result"
    }
   ],
   "source": [
    "import sys\n",
    "\n",
    "sys.stdout.write(\"ccsh> \")\n",
    "sys.stdout.flush()\n",
    "input().strip()"
   ]
  },
  {
   "cell_type": "code",
   "execution_count": 34,
   "metadata": {},
   "outputs": [
    {
     "data": {
      "text/plain": [
       "['export VAR', 'val']"
      ]
     },
     "execution_count": 34,
     "metadata": {},
     "output_type": "execute_result"
    }
   ],
   "source": [
    "user_input = \"export VAR=val\"\n",
    "\n",
    "if user_input.startswith(\"export\"):\n",
    "    export_parts = user_input.split(sep='=')\n",
    "\n",
    "export_parts"
   ]
  }
 ],
 "metadata": {
  "kernelspec": {
   "display_name": "coding_challenge",
   "language": "python",
   "name": "python3"
  },
  "language_info": {
   "codemirror_mode": {
    "name": "ipython",
    "version": 3
   },
   "file_extension": ".py",
   "mimetype": "text/x-python",
   "name": "python",
   "nbconvert_exporter": "python",
   "pygments_lexer": "ipython3",
   "version": "3.11.5"
  }
 },
 "nbformat": 4,
 "nbformat_minor": 2
}
